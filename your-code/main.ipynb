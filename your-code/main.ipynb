{
 "cells": [
  {
   "cell_type": "markdown",
   "metadata": {},
   "source": [
    "# StackAPI\n",
    "\n",
    "#### Import the necessary libraries here:"
   ]
  },
  {
   "cell_type": "code",
   "execution_count": 1,
   "metadata": {},
   "outputs": [],
   "source": [
    "import requests\n",
    "import json\n",
    "from stackapi import StackAPI\n",
    "\n",
    "site = StackAPI('stackoverflow')"
   ]
  },
  {
   "cell_type": "markdown",
   "metadata": {},
   "source": [
    "#### Question 1: Find the questions and answers of last month."
   ]
  },
  {
   "cell_type": "markdown",
   "metadata": {},
   "source": [
    "## questions"
   ]
  },
  {
   "cell_type": "code",
   "execution_count": 2,
   "metadata": {},
   "outputs": [],
   "source": [
    "questions = site.fetch('questions', fromdate = 1584230400, todate = 1586954974)\n"
   ]
  },
  {
   "cell_type": "code",
   "execution_count": 3,
   "metadata": {},
   "outputs": [
    {
     "name": "stdout",
     "output_type": "stream",
     "text": [
      "Know which row is similar with the another in a data frame\n",
      "Spring cloud stream kafka binder connecting to docker-compose kafka\n",
      "Command arguments not running the rest of my code\n",
      "pyttsx3 ModuleNotFoundError: No module named &#39;pythoncom&#39;\n",
      "Change response in WebSphere Liberty CONTEXT_ROOT_NOT_FOUND error\n",
      "React native navigation in flatlist\n",
      "Postgres update column, on conflict ignore this row\n",
      "Presto - Insert Array as Function Input\n",
      "How can I get an image to fit to the size of a grid cell\n",
      "Is it possible to use ggplot with the units package in R?\n",
      "SpringBoot Security Does not Whitelist Login Endpoints\n",
      "Snakemake InputFunctionException. AttributeError: &#39;Wildcards&#39; object has no attribute\n",
      "Python multiprocessing in Jupyter does not terminate\n",
      "redirecting git command output to another\n",
      "console.log(&quot;text&quot;) when there is no button element avalible using selenium in javascript\n",
      "Any reason why the NotificationCenter causes EXC_BAD_ACCESS on simulator, but not on device?\n",
      "how to connect to API in EC2 from S3 bucket AWS?\n",
      "handleExpand function is changing multiple Material UI cards in the grid\n",
      "How to multiply rows of list by another list?\n",
      "Oracle Iterate query result without insert\n",
      "firebase database snapshot crashes when i add 2 datasnapshots to look after\n",
      "Azure AD B2C Custom Policy Localized REST API Conflict Response\n",
      "File input in svelte does not update data\n",
      "Entity Framework Core and complex value-object\n",
      "How to loop to create another array with two elements when they are repeated in Javascript?\n",
      "git rev-list with a gitrevision range argument on circleci build not working\n",
      "Disallowing unnecessary outermost brackets in a BNFC-grammar\n",
      "Cognos data source connection issue\n",
      "How can I reduce the amount of SQL-querying in my code?\n",
      "google cloud platform cloud build rebuild Python cloud function is not updeted after rebuild\n",
      "my yaml script is not working in raspberrypi\n",
      "runner.bat in the same directory as main Go package\n",
      "Find Postman sub-object based on property\n",
      "How to create a fu\n"
     ]
    }
   ],
   "source": [
    "#for elem in questions['items']:\n",
    "    # questions_this_month.append(elem)\n",
    "    \n",
    "\n",
    "#for i in range(len(questions_this_month)):\n",
    "    # questions_this_month_2.append(questions_this_month[i]['title'])\n",
    "\n",
    "loop = [elem for elem in questions['items']]\n",
    "list_questions = [loop[i]['title'] for i in range(len(loop))]\n",
    "questions_this_month = '\\n'.join(list_questions)\n",
    "print(questions_this_month[0:2000])"
   ]
  },
  {
   "cell_type": "markdown",
   "metadata": {},
   "source": [
    "## answers "
   ]
  },
  {
   "cell_type": "code",
   "execution_count": 4,
   "metadata": {},
   "outputs": [],
   "source": [
    "answers = site.fetch('answers', fromdate = 1584230400, todate = 1586954974)"
   ]
  },
  {
   "cell_type": "code",
   "execution_count": 5,
   "metadata": {},
   "outputs": [
    {
     "name": "stdout",
     "output_type": "stream",
     "text": [
      "[61212363, 61228838, 61210231, 61217628, 60713126, 60880996, 61219310, 61223223, 61228209, 61227527, 61227873, 61224262, 61228200, 61228397, 61197869, 61208429, 61229069, 61217894, 61211414, 61214018, 61217790, 61190841, 61214965, 61228286, 61216289, 61224721, 61228805, 61220674, 61217656, 61194765, 61165033, 61213381, 61224983, 61226648, 61197083, 61224480, 61148564, 61206978, 61227713, 61226458, 61215132, 61208553, 61197352, 61192127, 61222846, 61137521, 61221429, 61228373, 61171522, 61224323, 61228558, 61228282, 61221808, 61216790, 61228309, 61226825, 61227778, 61148765, 61224553, 60854445, 61228507, 61227478, 61210114, 61227334, 61214201, 61228025, 61228782, 61228125, 61227272, 61161899, 61199965, 61195852, 61207493, 61175160, 61228384, 61227529, 61225167, 61138535, 61221875, 61216917, 61228787, 61224136, 61175120, 61216146, 61209673, 61228870, 61228876, 61170656, 61222648, 61191464, 61228123, 61228276, 61190242, 61221098, 61228364, 61223108, 61205473, 61187818, 61223061, 61225391, 61111715, 61227889, 61228086, 61226372, 61214139, 61084224, 61224684, 61224617, 61215779, 61212413, 61223356, 61228993, 60737683, 61204389, 61175234, 61226631, 61228616, 61226245, 61228980, 61226616, 61227784, 61228441, 61222931, 61222679, 61225922, 61217869, 61217315, 61214533, 61213194, 61181258, 61218289, 61227690, 61226528, 61225572, 61227491, 61229114, 61228759, 61229051, 61212027, 61229072, 61228994, 61207416, 61228572, 61228922, 61215051, 61229039, 61228683, 61161300, 61228884, 61218171, 61225941, 61228800, 61225379, 61228737, 61228237, 61227483, 61228933, 61228529, 61225692, 61229087, 61228053, 61219095, 61196844, 61229074, 61222232, 61228261, 61228718, 61229144, 61228999, 61067865, 61229127, 61229126, 61229123, 61228950, 61229011, 61229113, 61229111, 61229109, 61221499, 61229106, 61229104, 61229103, 61229100, 61229097, 61229096, 61229094, 61229093, 61229092, 61228676, 61229091, 61229090, 61229089, 61229085, 61229083, 61229081, 61229080, 61226199, 61229075, 61229070, 61229068, 61229065, 61227324, 61229064, 61229063, 61228743, 61228881, 61229056, 61228937, 61229052, 61229050, 61229048, 61228670, 61229045, 61225416, 61229041, 61228949, 61229034, 61221084, 61229033, 61229032, 61229030, 61229027, 61229021, 61229019, 61226135, 61229014, 61228964, 61215932, 61229004, 61229000, 61228996, 61227890, 61228992, 61228991, 61228990, 61227612, 61228987, 61228984, 61228982, 61228981, 61228979, 61184675, 61228974, 61228865, 61228973, 61228970, 61228968, 61228967, 61228965, 61228961, 61228954, 61228953, 61228826, 61227441, 61227562, 61228946, 61228369, 61228940, 61209118, 61228935, 61220719, 61228932, 61228931, 61228930, 61228206, 61228928, 61228926, 61228924, 60743305, 61222545, 61228918, 61220789, 61228917, 61227957, 61228916, 61228912, 61228911, 61228909, 61228905, 61228552, 61228904, 61228902, 61228901, 61228899, 61228312, 61228894, 61228891, 61228887, 61228883, 61228880, 61228878, 61228877, 61228875, 61228874, 61228872, 61228871, 61228861, 61228308, 61228860, 61228857, 61228851, 61228850, 61228848, 61228847, 61227545, 61228844, 61227623, 61228841, 61224745, 61228837, 61228836, 61228831, 61228830, 61228829, 61228828, 61228827, 61228825, 61228824, 61228823, 61228634, 61228821, 61228820, 61228819, 61228818, 61227242, 61228815, 61228814, 61221118, 61228809, 61228804, 61228793, 61228792, 61228653, 61228783, 61228606, 61222432, 61221718, 61228781, 61228778, 61228775, 61228773, 61228772, 61228770, 61228765, 61228763, 61228758, 61228756, 61228755, 61228753, 61228751, 61228750, 61228745, 61228742, 61228740, 61228738, 61228736, 61228734, 61228732, 61228729, 61228571, 61228726, 61228725, 61228724, 61228592, 61228723, 61228722, 61228721, 61228719, 61228599, 61228716, 61227229, 61228711, 61228707, 61228706, 61228705, 61228578, 61228704, 61228700, 61228699, 61228697, 61228696, 61228695, 61228413, 61228687, 61228684, 61228678, 61228677, 61228675, 61228672, 61228671, 61228669, 61228360, 61228667, 61228666, 61228665, 61228663, 61228661, 61228660, 61228659, 61228657, 61228659, 61228657, 61228655, 61224766, 61228652, 61228650, 61228646, 61228521, 61228642, 61228638, 61228637, 61228636, 61228635, 61226713, 61228630, 61228628, 61228623, 61228621, 61228620, 61228619, 61228617, 61228615, 61223341, 61228614, 61228610, 61228607, 61226629, 61228605, 61228602, 61228601, 61228598, 61228444, 61228593, 61228591, 61228589, 61228430, 61228586, 61228446, 61228581, 61226439, 61228577, 61228573, 61228570, 61228569, 61228567, 61228565, 61228559, 60728130, 61228556, 61228554, 61227350, 61228551, 61228520, 61228544, 61228543, 61228539, 61228537, 61228536, 61228534, 61228412, 61228265, 61228528, 61228029, 61228368, 61228527, 61228526, 61228524, 61228522, 61228515, 61228514, 61228512, 61228509, 61228505, 61228502, 61228501, 61228500, 61228498, 61228493, 61228489, 61044995, 61228321, 61228484, 61170418, 61228480, 61228479, 61228477, 61228475, 61228474, 61228470, 61228469, 61228468, 61228467, 61228464, 61228463, 61228462, 61228459, 61226832, 61228456, 61228454, 61228239]\n"
     ]
    }
   ],
   "source": [
    "loop = [elem for elem in answers['items']]\n",
    "list_answers = [loop[i]['answer_id'] for i in range(len(loop))]\n",
    "#answers_this_month = '\\n'.join(list_answers)\n",
    "print(list_answers[0:2000])"
   ]
  },
  {
   "cell_type": "markdown",
   "metadata": {},
   "source": [
    "#### Question 2: Find the most voted question today with at least a score of 5 and tagged with 'python'. "
   ]
  },
  {
   "cell_type": "code",
   "execution_count": 6,
   "metadata": {},
   "outputs": [
    {
     "data": {
      "text/plain": [
       "'Why do I get this many iterations when adding to and removing from a set while iterating over it?'"
      ]
     },
     "execution_count": 6,
     "metadata": {},
     "output_type": "execute_result"
    }
   ],
   "source": [
    "most_voted_today = site.fetch('questions', fromdate = 1586822400, todate = 1586954974, min = 5, tagged='python', sort = 'votes')\n",
    "\n",
    "loop = [elem for elem in most_voted_today['items']]\n",
    "list_questions = [loop[i]['title'] for i in range(len(loop))]\n",
    "list_questions[0]"
   ]
  },
  {
   "cell_type": "markdown",
   "metadata": {},
   "source": [
    "#### Question 3: Find the answers with id 6784 and 6473."
   ]
  },
  {
   "cell_type": "code",
   "execution_count": 7,
   "metadata": {},
   "outputs": [
    {
     "data": {
      "text/plain": [
       "{'backoff': 0,\n",
       " 'has_more': False,\n",
       " 'page': 1,\n",
       " 'quota_max': 300,\n",
       " 'quota_remaining': 300,\n",
       " 'total': 0,\n",
       " 'items': [{'owner': {'reputation': 28695,\n",
       "    'user_id': 758,\n",
       "    'user_type': 'registered',\n",
       "    'accept_rate': 77,\n",
       "    'profile_image': 'https://www.gravatar.com/avatar/0b4adc19284ed0751844d610555dc6b2?s=128&d=identicon&r=PG',\n",
       "    'display_name': 'Mark Renouf',\n",
       "    'link': 'https://stackoverflow.com/users/758/mark-renouf'},\n",
       "   'is_accepted': False,\n",
       "   'score': 0,\n",
       "   'last_activity_date': 1218291583,\n",
       "   'creation_date': 1218291583,\n",
       "   'answer_id': 6784,\n",
       "   'question_id': 6778}]}"
      ]
     },
     "execution_count": 7,
     "metadata": {},
     "output_type": "execute_result"
    }
   ],
   "source": [
    "a = site.fetch('answers', ids = [6784])\n",
    "a"
   ]
  },
  {
   "cell_type": "code",
   "execution_count": 8,
   "metadata": {},
   "outputs": [
    {
     "data": {
      "text/plain": [
       "{'backoff': 0,\n",
       " 'has_more': False,\n",
       " 'page': 1,\n",
       " 'quota_max': 300,\n",
       " 'quota_remaining': 300,\n",
       " 'total': 0,\n",
       " 'items': []}"
      ]
     },
     "execution_count": 8,
     "metadata": {},
     "output_type": "execute_result"
    }
   ],
   "source": [
    "b = site.fetch('answers', ids = [6473])\n",
    "b"
   ]
  },
  {
   "cell_type": "code",
   "execution_count": null,
   "metadata": {},
   "outputs": [],
   "source": []
  }
 ],
 "metadata": {
  "kernelspec": {
   "display_name": "Python 3",
   "language": "python",
   "name": "python3"
  },
  "language_info": {
   "codemirror_mode": {
    "name": "ipython",
    "version": 3
   },
   "file_extension": ".py",
   "mimetype": "text/x-python",
   "name": "python",
   "nbconvert_exporter": "python",
   "pygments_lexer": "ipython3",
   "version": "3.6.5"
  }
 },
 "nbformat": 4,
 "nbformat_minor": 2
}
