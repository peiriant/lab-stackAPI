{
 "cells": [
  {
   "cell_type": "markdown",
   "metadata": {},
   "source": [
    "# StackAPI\n",
    "\n",
    "#### Import the necessary libraries here:"
   ]
  },
  {
   "cell_type": "code",
   "execution_count": 1,
   "metadata": {},
   "outputs": [],
   "source": [
    "import requests\n",
    "import json\n",
    "from stackapi import StackAPI\n",
    "\n",
    "site = StackAPI('stackoverflow')"
   ]
  },
  {
   "cell_type": "markdown",
   "metadata": {},
   "source": [
    "#### Question 1: Find the questions and answers of last month."
   ]
  },
  {
   "cell_type": "markdown",
   "metadata": {},
   "source": [
    "## questions"
   ]
  },
  {
   "cell_type": "code",
   "execution_count": 2,
   "metadata": {},
   "outputs": [],
   "source": [
    "questions = site.fetch('questions', fromdate = 1584230400, todate = 1586954974)\n"
   ]
  },
  {
   "cell_type": "code",
   "execution_count": 3,
   "metadata": {},
   "outputs": [
    {
     "name": "stdout",
     "output_type": "stream",
     "text": [
      "Know which row is similar with the another in a data frame\n",
      "Spring cloud stream kafka binder connecting to docker-compose kafka\n",
      "Command arguments not running the rest of my code\n",
      "pyttsx3 ModuleNotFoundError: No module named &#39;pythoncom&#39;\n",
      "Change response in WebSphere Liberty CONTEXT_ROOT_NOT_FOUND error\n",
      "React native navigation in flatlist\n",
      "Postgres update column, on conflict ignore this row\n",
      "Presto - Insert Array as Function Input\n",
      "How can I get an image to fit to the size of a grid cell\n",
      "Is it possible to use ggplot with the units package in R?\n",
      "SpringBoot Security Does not Whitelist Login Endpoints\n",
      "Snakemake InputFunctionException. AttributeError: &#39;Wildcards&#39; object has no attribute\n",
      "Python multiprocessing in Jupyter does not terminate\n",
      "redirecting git command output to another\n",
      "console.log(&quot;text&quot;) when there is no button element avalible using selenium in javascript\n",
      "Any reason why the NotificationCenter causes EXC_BAD_ACCESS on simulator, but not on device?\n",
      "how to connect to API in EC2 from S3 bucket AWS?\n",
      "handleExpand function is changing multiple Material UI cards in the grid\n",
      "How to multiply rows of list by another list?\n",
      "Oracle Iterate query result without insert\n",
      "firebase database snapshot crashes when i add 2 datasnapshots to look after\n",
      "Azure AD B2C Custom Policy Localized REST API Conflict Response\n",
      "File input in svelte does not update data\n",
      "Entity Framework Core and complex value-object\n",
      "How to loop to create another array with two elements when they are repeated in Javascript?\n",
      "git rev-list with a gitrevision range argument on circleci build not working\n",
      "Disallowing unnecessary outermost brackets in a BNFC-grammar\n",
      "Cognos data source connection issue\n",
      "How can I reduce the amount of SQL-querying in my code?\n",
      "google cloud platform cloud build rebuild Python cloud function is not updeted after rebuild\n",
      "my yaml script is not working in raspberrypi\n",
      "runner.bat in the same directory as main Go package\n",
      "Find Postman sub-object based on property\n",
      "How to create a fu\n"
     ]
    }
   ],
   "source": [
    "#for elem in questions['items']:\n",
    "    # questions_this_month.append(elem)\n",
    "    \n",
    "\n",
    "#for i in range(len(questions_this_month)):\n",
    "    # questions_this_month_2.append(questions_this_month[i]['title'])\n",
    "\n",
    "loop = [elem for elem in questions['items']]\n",
    "list_questions = [loop[i]['title'] for i in range(len(loop))]\n",
    "questions_this_month = '\\n'.join(list_questions)\n",
    "print(questions_this_month[0:2000])"
   ]
  },
  {
   "cell_type": "markdown",
   "metadata": {},
   "source": [
    "## answers "
   ]
  },
  {
   "cell_type": "code",
   "execution_count": 4,
   "metadata": {},
   "outputs": [],
   "source": [
    "answers = site.fetch('answers', fromdate = 1584230400, todate = 1586954974)"
   ]
  },
  {
   "cell_type": "code",
   "execution_count": null,
   "metadata": {},
   "outputs": [],
   "source": [
    "loop = [elem for elem in answers['items']]\n",
    "list_answers = [loop[i]['answer_id'] for i in range(len(loop))]\n",
    "#answers_this_month = '\\n'.join(list_answers)\n",
    "print(list_answers[0:2000])"
   ]
  },
  {
   "cell_type": "markdown",
   "metadata": {},
   "source": [
    "#### Question 2: Find the most voted question today with at least a score of 5 and tagged with 'python'. "
   ]
  },
  {
   "cell_type": "code",
   "execution_count": null,
   "metadata": {},
   "outputs": [],
   "source": [
    "most_voted_today = site.fetch('questions', fromdate = 1586822400, todate = 1586954974, min = 5, tagged='python', sort = 'votes')\n",
    "\n",
    "loop = [elem for elem in most_voted_today['items']]\n",
    "list_questions = [loop[i]['title'] for i in range(len(loop))]\n",
    "list_questions[0]"
   ]
  },
  {
   "cell_type": "markdown",
   "metadata": {},
   "source": [
    "#### Question 3: Find the answers with id 6784 and 6473."
   ]
  },
  {
   "cell_type": "code",
   "execution_count": null,
   "metadata": {},
   "outputs": [],
   "source": [
    "a = site.fetch('answers', ids = [6784])\n",
    "a"
   ]
  },
  {
   "cell_type": "code",
   "execution_count": null,
   "metadata": {},
   "outputs": [],
   "source": [
    "b = site.fetch('answers', ids = [6473])\n",
    "b"
   ]
  },
  {
   "cell_type": "code",
   "execution_count": null,
   "metadata": {},
   "outputs": [],
   "source": []
  }
 ],
 "metadata": {
  "kernelspec": {
   "display_name": "Python 3",
   "language": "python",
   "name": "python3"
  },
  "language_info": {
   "codemirror_mode": {
    "name": "ipython",
    "version": 3
   },
   "file_extension": ".py",
   "mimetype": "text/x-python",
   "name": "python",
   "nbconvert_exporter": "python",
   "pygments_lexer": "ipython3",
   "version": "3.6.5"
  }
 },
 "nbformat": 4,
 "nbformat_minor": 2
}
